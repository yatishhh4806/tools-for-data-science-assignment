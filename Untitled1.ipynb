{
  "metadata": {
    "kernelspec": {
      "name": "python",
      "display_name": "Python (Pyodide)",
      "language": "python"
    },
    "language_info": {
      "codemirror_mode": {
        "name": "python",
        "version": 3
      },
      "file_extension": ".py",
      "mimetype": "text/x-python",
      "name": "python",
      "nbconvert_exporter": "python",
      "pygments_lexer": "ipython3",
      "version": "3.8"
    }
  },
  "nbformat_minor": 5,
  "nbformat": 4,
  "cells": [
    {
      "id": "d5270c6c-fce2-4518-ac36-1c63a6a2ae86",
      "cell_type": "markdown",
      "source": "# My Notebook Title",
      "metadata": {}
    },
    {
      "id": "ca853a3b-31c0-4d7a-ba28-a94758f99e35",
      "cell_type": "markdown",
      "source": "## Introduction\n\nIn this notebook, we will explore the process of building a machine learning model to predict housing prices.\nWe'll cover data loading, preprocessing, model training, and evaluation.\n",
      "metadata": {}
    },
    {
      "id": "bc55ceef-eb66-4a0f-b782-1ce0f091b7fa",
      "cell_type": "markdown",
      "source": "## Popular Data Science Languages\n\nHere are some commonly used programming languages in Data Science:\n\n- Python\n- R\n- SQL\n- Julia\n- Scala\n",
      "metadata": {}
    },
    {
      "id": "8e288a58-b673-4673-90fc-14e7954e2b09",
      "cell_type": "markdown",
      "source": "## Popular Data Science Libraries\n\nSome widely used libraries in Data Science include:\n\n- NumPy\n- Pandas\n- Matplotlib\n- Seaborn\n- Scikit-learn\n- TensorFlow\n- PyTorch\n",
      "metadata": {}
    },
    {
      "id": "d1f8687f-e6b5-406d-ba39-01d1cabc3935",
      "cell_type": "markdown",
      "source": "## Table of Data Science Tools\n\n| Tool           | Description                        |\n|----------------|------------------------------------|\n| Jupyter        | Notebook-based development         |\n| RStudio        | IDE for R programming              |\n| Apache Spark   | Big data processing framework      |\n| TensorFlow     | Deep learning framework            |\n| KNIME          | Open-source data analytics platform|\n",
      "metadata": {}
    },
    {
      "id": "ad2dac79-de2b-4de5-bc8a-9c287125e1cc",
      "cell_type": "markdown",
      "source": "## Arithmetic Expressions in Python\n\nBelow are examples of basic arithmetic expressions like addition, subtraction, multiplication, and division.\n",
      "metadata": {}
    },
    {
      "id": "5570099d-eb8f-4e85-82b0-81c76039e136",
      "cell_type": "code",
      "source": "# Multiply and add numbers\na = 5\nb = 4\nresult = a * b + 2\nprint(\"The result is:\", result)\n\n",
      "metadata": {
        "trusted": true
      },
      "outputs": [],
      "execution_count": null
    },
    {
      "id": "2bda78d6-0b2d-4251-a374-f5abd735c703",
      "cell_type": "code",
      "source": "# Convert minutes to hours\nminutes = 150\nhours = minutes / 60\nprint(f\"{minutes} minutes is equal to {hours} hours.\")\n",
      "metadata": {
        "trusted": true
      },
      "outputs": [],
      "execution_count": null
    },
    {
      "id": "abb0722b-3645-4217-8a81-33eb58ace6f4",
      "cell_type": "markdown",
      "source": "## Objectives\n\n- Understand basic Python syntax\n- Use Markdown in Jupyter Notebooks\n- Perform arithmetic operations in Python\n- List common data science tools and libraries\n",
      "metadata": {}
    },
    {
      "id": "45bc36ec-b8e5-48ac-856c-13547747d50a",
      "cell_type": "markdown",
      "source": "## Author\n\n Yatish T\n",
      "metadata": {}
    }
  ]
}